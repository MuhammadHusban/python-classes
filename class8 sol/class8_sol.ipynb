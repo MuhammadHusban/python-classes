{
  "nbformat": 4,
  "nbformat_minor": 0,
  "metadata": {
    "colab": {
      "provenance": []
    },
    "kernelspec": {
      "name": "python3",
      "display_name": "Python 3"
    },
    "language_info": {
      "name": "python"
    }
  },
  "cells": [
    {
      "cell_type": "code",
      "execution_count": 1,
      "metadata": {
        "colab": {
          "base_uri": "https://localhost:8080/"
        },
        "id": "Qqo9CFcb8Bgs",
        "outputId": "587ed8c6-b757-4d69-84de-cb788c526e90"
      },
      "outputs": [
        {
          "output_type": "stream",
          "name": "stdout",
          "text": [
            "Number of guesses is limited to only 9 times: \n",
            "Guess the number :\n",
            "2\n",
            "you enter less number please input greater number.\n",
            "\n",
            "8 no. of guesses left\n",
            "\n",
            "Guess the number :\n",
            "19\n",
            "you enter greater number please input smaller number.\n",
            " \n",
            "7 no. of guesses left\n",
            "\n",
            "Guess the number :\n",
            "18\n",
            "you won\n",
            "\n",
            "3 no.of guesses he took to finish.\n"
          ]
        }
      ],
      "source": [
        "n=18\n",
        "number_of_guesses=1\n",
        "print(\"Number of guesses is limited to only 9 times: \")\n",
        "while (number_of_guesses<=9):\n",
        "    guess_number = int(input(\"Guess the number :\\n\"))\n",
        "    if guess_number<18:\n",
        "        print(\"you enter less number please input greater number.\\n\")\n",
        "    elif guess_number>18:\n",
        "        print(\"you enter greater number please input smaller number.\\n \")\n",
        "    else:\n",
        "        print(\"you won\\n\")\n",
        "        print(number_of_guesses,\"no.of guesses he took to finish.\")\n",
        "        break\n",
        "    print(9-number_of_guesses,\"no. of guesses left\\n\")\n",
        "    number_of_guesses = number_of_guesses + 1\n",
        "\n",
        "if(number_of_guesses>9):\n",
        "    print(\"Game Over\")"
      ]
    },
    {
      "cell_type": "code",
      "source": [
        "import random\n",
        "\n",
        "# Set the range of numbers to be guessed\n",
        "min_num = 1\n",
        "max_num = 20\n",
        "\n",
        "# Set the number of allowed guesses\n",
        "num_of_guesses = 5\n",
        "\n",
        "# Generate a random number\n",
        "number = random.randint(min_num, max_num)\n",
        "\n",
        "# Welcome the player\n",
        "print(\"Welcome to the Number Guessing Game!\")\n",
        "print(f\"I'm thinking of a number between {min_num} and {max_num}. You have {num_of_guesses} guesses.\")\n",
        "\n",
        "# Loop through each guess\n",
        "for guess_num in range(1, num_of_guesses+1):\n",
        "    # Get the player's guess\n",
        "    guess = int(input(\"Enter your guess: \"))\n",
        "    \n",
        "    # Check if the guess is correct\n",
        "    if guess == number:\n",
        "        print(f\"Congratulations! You won in {guess_num} guesses!\")\n",
        "        break\n",
        "    elif guess < number:\n",
        "        print(\"Try a greater number.\")\n",
        "    else:\n",
        "        print(\"Try a smaller number.\")\n",
        "        \n",
        "    # Print the number of guesses left\n",
        "    guesses_left = num_of_guesses - guess_num\n",
        "    if guesses_left > 0:\n",
        "        print(f\"You have {guesses_left} guesses left.\")\n",
        "    else:\n",
        "        print(\"Game over.\")\n"
      ],
      "metadata": {
        "id": "jkH1Rx278FQU",
        "colab": {
          "base_uri": "https://localhost:8080/"
        },
        "outputId": "31727e5d-6b23-4638-f1d8-3be63845dbab"
      },
      "execution_count": 2,
      "outputs": [
        {
          "output_type": "stream",
          "name": "stdout",
          "text": [
            "Welcome to the Number Guessing Game!\n",
            "I'm thinking of a number between 1 and 20. You have 5 guesses.\n",
            "Enter your guess: 2\n",
            "Try a greater number.\n",
            "You have 4 guesses left.\n",
            "Enter your guess: 6\n",
            "Try a greater number.\n",
            "You have 3 guesses left.\n",
            "Enter your guess: 1\n",
            "Try a greater number.\n",
            "You have 2 guesses left.\n",
            "Enter your guess: 20\n",
            "Try a smaller number.\n",
            "You have 1 guesses left.\n",
            "Enter your guess: 19\n",
            "Try a smaller number.\n",
            "Game over.\n"
          ]
        }
      ]
    },
    {
      "cell_type": "code",
      "source": [
        "# Set the range of numbers to be guessed\n",
        "min_num = 1\n",
        "max_num = 20\n",
        "\n",
        "# Set the number of allowed guesses\n",
        "num_of_guesses = 5\n",
        "\n",
        "# Set the hidden number\n",
        "hidden_number = 18\n",
        "\n",
        "# Welcome the player\n",
        "print(\"Welcome to the Number Guessing Game!\")\n",
        "print(f\"I'm thinking of a number between {min_num} and {max_num}. You have {num_of_guesses} guesses.\")\n",
        "\n",
        "# Initialize the guess counter\n",
        "guess_count = 0\n",
        "\n",
        "# Loop through guesses while the player has guesses left\n",
        "while guess_count < num_of_guesses:\n",
        "    # Get the player's guess\n",
        "    guess = int(input(\"Enter your guess: \"))\n",
        "    \n",
        "    # Increment the guess counter\n",
        "    guess_count += 1\n",
        "    \n",
        "    # Check if the guess is correct\n",
        "    if guess == hidden_number:\n",
        "        print(f\"Congratulations! You won in {guess_count} guesses!\")\n",
        "        break\n",
        "    elif guess < hidden_number:\n",
        "        print(\"Try a greater number.\")\n",
        "    else:\n",
        "        print(\"Try a smaller number.\")\n",
        "        \n",
        "    # Print the number of guesses left\n",
        "    guesses_left = num_of_guesses - guess_count\n",
        "    if guesses_left > 0:\n",
        "        print(f\"You have {guesses_left} guesses left.\")\n",
        "    else:\n",
        "        print(\"Game over.\")\n"
      ],
      "metadata": {
        "colab": {
          "base_uri": "https://localhost:8080/"
        },
        "id": "3NBcnhzSVGMX",
        "outputId": "97638728-e997-41f6-91e3-eb0b8c6445d1"
      },
      "execution_count": 3,
      "outputs": [
        {
          "output_type": "stream",
          "name": "stdout",
          "text": [
            "Welcome to the Number Guessing Game!\n",
            "I'm thinking of a number between 1 and 20. You have 5 guesses.\n",
            "Enter your guess: 7\n",
            "Try a greater number.\n",
            "You have 4 guesses left.\n",
            "Enter your guess: 19\n",
            "Try a smaller number.\n",
            "You have 3 guesses left.\n",
            "Enter your guess: 18\n",
            "Congratulations! You won in 3 guesses!\n"
          ]
        }
      ]
    },
    {
      "cell_type": "code",
      "source": [],
      "metadata": {
        "id": "KCfkVhSRW1Vt"
      },
      "execution_count": null,
      "outputs": []
    }
  ]
}