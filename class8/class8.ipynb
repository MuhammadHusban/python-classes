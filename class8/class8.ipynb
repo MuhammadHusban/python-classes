{
  "nbformat": 4,
  "nbformat_minor": 0,
  "metadata": {
    "colab": {
      "provenance": []
    },
    "kernelspec": {
      "name": "python3",
      "display_name": "Python 3"
    },
    "language_info": {
      "name": "python"
    }
  },
  "cells": [
    {
      "cell_type": "code",
      "execution_count": null,
      "metadata": {
        "id": "DiXJL5ayZL-e"
      },
      "outputs": [],
      "source": [
        "# Operators In Pythons\n",
        "# Arithmetic Operators\n",
        "# Assignment Operators\n",
        "# Comparison Operators\n",
        "# Logical Operators\n",
        "# Identity Operators\n",
        "# Membership Operators\n"
      ]
    },
    {
      "cell_type": "code",
      "source": [
        "# Arithmetic Operators\n",
        "print(\"5 + 6 is \", 5+6)\n",
        "print(\"5 - 6 is \", 5-6)\n",
        "print(\"5 * 6 is \", 5*6)\n",
        "print(\"5 / 6 is \", 5/6)\n",
        "print(\"5 ** 3 is \", 5**3)\n",
        "print(\"5 % 5 is \", 5%5)\n",
        "print(\"15 // 6 is \", 15//6)"
      ],
      "metadata": {
        "colab": {
          "base_uri": "https://localhost:8080/"
        },
        "id": "DbSepVJoZT-h",
        "outputId": "3473b267-84df-419b-e984-46179f49a04e"
      },
      "execution_count": 10,
      "outputs": [
        {
          "output_type": "stream",
          "name": "stdout",
          "text": [
            "5 + 6 is  11\n",
            "5 - 6 is  -1\n",
            "5 * 6 is  30\n",
            "5 / 6 is  0.8333333333333334\n",
            "5 ** 3 is  125\n",
            "5 % 5 is  0\n",
            "15 // 6 is  2\n"
          ]
        }
      ]
    },
    {
      "cell_type": "code",
      "source": [
        "\n",
        "# Assignment Operators\n",
        "print(\"Assignment Operators\")\n",
        "x = 5\n",
        "print(x)\n",
        "x +=7 # x = x+7\n",
        "print(x)\n"
      ],
      "metadata": {
        "colab": {
          "base_uri": "https://localhost:8080/"
        },
        "id": "IY_rNeGNZWuu",
        "outputId": "8540b8de-bc49-4e82-87d0-69b476d56609"
      },
      "execution_count": 11,
      "outputs": [
        {
          "output_type": "stream",
          "name": "stdout",
          "text": [
            "Assignment Operators\n",
            "5\n",
            "12\n"
          ]
        }
      ]
    },
    {
      "cell_type": "code",
      "source": [
        "# Comparison Operators\n",
        "i = 5\n",
        "print(i==5)"
      ],
      "metadata": {
        "colab": {
          "base_uri": "https://localhost:8080/"
        },
        "id": "x9AVutRmZWsN",
        "outputId": "0281fde5-e2ac-4a32-9515-f7b326b0aebe"
      },
      "execution_count": 14,
      "outputs": [
        {
          "output_type": "stream",
          "name": "stdout",
          "text": [
            "True\n"
          ]
        }
      ]
    },
    {
      "cell_type": "code",
      "source": [
        "# Logical Operators\n",
        "a = True\n",
        "b = True\n",
        "\n",
        "print(b and a)"
      ],
      "metadata": {
        "colab": {
          "base_uri": "https://localhost:8080/"
        },
        "id": "r4x3YLDdZWou",
        "outputId": "6d358789-9183-45aa-e869-3f926ad71b4d"
      },
      "execution_count": 21,
      "outputs": [
        {
          "output_type": "stream",
          "name": "stdout",
          "text": [
            "True\n"
          ]
        }
      ]
    },
    {
      "cell_type": "code",
      "source": [
        "# Identity Operators\n",
        "print(a is b)"
      ],
      "metadata": {
        "colab": {
          "base_uri": "https://localhost:8080/"
        },
        "id": "Z7PTtIpuZWlx",
        "outputId": "7c9d5bd9-574f-4a20-dd3f-3ae0da698e86"
      },
      "execution_count": 23,
      "outputs": [
        {
          "output_type": "stream",
          "name": "stdout",
          "text": [
            "True\n"
          ]
        }
      ]
    },
    {
      "cell_type": "code",
      "source": [
        "# Membership Operators\n",
        "list = [3, 3,2, 2,39, 33, 35,32]\n",
        "print(324 not in list)"
      ],
      "metadata": {
        "colab": {
          "base_uri": "https://localhost:8080/"
        },
        "id": "7jfbUMk-ZWip",
        "outputId": "8e111180-a052-4cbc-fe8f-f0ea2cb30de5"
      },
      "execution_count": 25,
      "outputs": [
        {
          "output_type": "stream",
          "name": "stdout",
          "text": [
            "True\n"
          ]
        }
      ]
    },
    {
      "cell_type": "code",
      "source": [],
      "metadata": {
        "id": "xdLoZq4XZWe1"
      },
      "execution_count": null,
      "outputs": []
    },
    {
      "cell_type": "markdown",
      "source": [
        "You are free to use anything we've studied till now.\n",
        "2. The number of guesses should be limited, i.e (5 or 9).\n",
        "3. Print the number of guesses left.\n",
        "4. Print the number of guesses he took to win the game.\n",
        "5. “Game Over” message should display if the number of guesses becomes equal to \n",
        "You are advised to participate in solving this problem. This task helps you to become a good problem solver and helps you accepting the challenge and acquiring new skills."
      ],
      "metadata": {
        "id": "vhK0lefja3o9"
      }
    },
    {
      "cell_type": "code",
      "source": [
        "a = 18\n",
        "\n"
      ],
      "metadata": {
        "id": "Q6d4L4xbZWbO"
      },
      "execution_count": null,
      "outputs": []
    },
    {
      "cell_type": "code",
      "source": [],
      "metadata": {
        "id": "f8Yx_OPAZWKv"
      },
      "execution_count": null,
      "outputs": []
    },
    {
      "cell_type": "code",
      "source": [],
      "metadata": {
        "id": "2GJjEJ4RZWHA"
      },
      "execution_count": null,
      "outputs": []
    }
  ]
}