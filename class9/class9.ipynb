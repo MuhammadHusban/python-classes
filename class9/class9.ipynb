{
  "nbformat": 4,
  "nbformat_minor": 0,
  "metadata": {
    "colab": {
      "provenance": []
    },
    "kernelspec": {
      "name": "python3",
      "display_name": "Python 3"
    },
    "language_info": {
      "name": "python"
    }
  },
  "cells": [
    {
      "cell_type": "code",
      "source": [],
      "metadata": {
        "id": "n3GqWSTL9YYs"
      },
      "execution_count": null,
      "outputs": []
    },
    {
      "cell_type": "markdown",
      "source": [
        "Short Hand If Else Notation In Python"
      ],
      "metadata": {
        "id": "EGw-qMph9eTb"
      }
    },
    {
      "cell_type": "markdown",
      "source": [
        "An executable statement, written in so compact manner that it comprises of only a single line of code is known as shorthand statement"
      ],
      "metadata": {
        "id": "eHpEqZvy9frZ"
      }
    },
    {
      "cell_type": "code",
      "execution_count": 11,
      "metadata": {
        "colab": {
          "base_uri": "https://localhost:8080/"
        },
        "id": "Xu1iFSwA9KU1",
        "outputId": "bb246adb-aae6-4e6b-f188-d7873c459484"
      },
      "outputs": [
        {
          "output_type": "stream",
          "name": "stdout",
          "text": [
            "enter a\n",
            "20\n",
            "enter b\n",
            "19\n",
            "a b se bada ha bhai\n"
          ]
        }
      ],
      "source": [
        "a = int(input(\"enter a\\n\"))\n",
        "b = int(input(\"enter b\\n\"))\n",
        "\n",
        "# if a>b: print(\"A B se bada hai bhai\")\n",
        "print(\"B A se bada hai bhai\") if a<b else print(\"a b se bada ha bhai\")"
      ]
    },
    {
      "cell_type": "markdown",
      "source": [
        "Try and Except"
      ],
      "metadata": {
        "id": "H4sPZQIf_t7x"
      }
    },
    {
      "cell_type": "code",
      "source": [],
      "metadata": {
        "id": "sBNNzo-k_tZd"
      },
      "execution_count": null,
      "outputs": []
    },
    {
      "cell_type": "code",
      "source": [
        "print(\"Enter num 1\")\n",
        "num1 = input()\n",
        "print(\"Enter num 2\")\n",
        "num2 = input()\n",
        "try:\n",
        "    print(\"The sum of these two numbers is\",\n",
        "          int(num1)+int(num2))\n",
        "except Exception as e:\n",
        "    print(e)\n",
        "\n",
        "\n",
        "\n",
        "print(\"This line is very important\")\n",
        "\n"
      ],
      "metadata": {
        "colab": {
          "base_uri": "https://localhost:8080/"
        },
        "id": "VpoiclcF9jIG",
        "outputId": "e056a389-018a-4079-aedf-e05a53be1cbb"
      },
      "execution_count": 14,
      "outputs": [
        {
          "output_type": "stream",
          "name": "stdout",
          "text": [
            "Enter num 1\n",
            "2\n",
            "Enter num 2\n",
            "f\n",
            "<class 'Exception'>\n",
            "This line is very important\n"
          ]
        }
      ]
    },
    {
      "cell_type": "code",
      "source": [],
      "metadata": {
        "id": "PUVxFNSn_w4t"
      },
      "execution_count": null,
      "outputs": []
    }
  ]
}