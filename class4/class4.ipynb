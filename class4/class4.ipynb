{
  "nbformat": 4,
  "nbformat_minor": 0,
  "metadata": {
    "colab": {
      "provenance": []
    },
    "kernelspec": {
      "name": "python3",
      "display_name": "Python 3"
    },
    "language_info": {
      "name": "python"
    }
  },
  "cells": [
    {
      "cell_type": "markdown",
      "source": [
        "Tuples in Python:\n",
        "A tuple is an immutable data type in Python. A tuple in python is a collection of elements enclosed in () (parentheses). Tuple, once defined, can’t be changed, i.e., its elements or values can’t be altered or manipulated."
      ],
      "metadata": {
        "id": "t6W2Lt2V6lax"
      }
    },
    {
      "cell_type": "code",
      "source": [
        "# Tuples in Python :\n",
        "a=()    # It's an example of empty tuple\n",
        "x=(1,)   # Tuple with single value i.e. 1 \n",
        "tup1 = (1,2,3,4,5)\n",
        "tup2 = ('husban', 5, 'demo', 5.8)"
      ],
      "metadata": {
        "id": "IVdPP8ZY6lDD"
      },
      "execution_count": 31,
      "outputs": []
    },
    {
      "cell_type": "code",
      "source": [
        "a\n",
        "x\n",
        "tup1\n",
        "tup2"
      ],
      "metadata": {
        "colab": {
          "base_uri": "https://localhost:8080/"
        },
        "id": "VI21hBbj6xFG",
        "outputId": "003f3925-c130-4258-8e5b-5c02bba40877"
      },
      "execution_count": 32,
      "outputs": [
        {
          "output_type": "execute_result",
          "data": {
            "text/plain": [
              "('husban', 5, 'demo', 5.8)"
            ]
          },
          "metadata": {},
          "execution_count": 32
        }
      ]
    },
    {
      "cell_type": "code",
      "source": [
        "# Swapping of two numbers :\n",
        "a = 10 \n",
        "b = 15\n",
        "# print(a,b)     #It will give output as: 10 15\n",
        "a,b = b,a \n",
        "# print(a,b)     #It will give output as: 15 10"
      ],
      "metadata": {
        "colab": {
          "base_uri": "https://localhost:8080/"
        },
        "id": "84qK50mm6KIV",
        "outputId": "2c4fe49b-1dc7-4ec4-dfe6-35ac263ef93d"
      },
      "execution_count": 5,
      "outputs": [
        {
          "output_type": "stream",
          "name": "stdout",
          "text": [
            "10 15\n",
            "15 10\n"
          ]
        }
      ]
    },
    {
      "cell_type": "code",
      "source": [
        "a= 1\n",
        "b = 8\n",
        "temp = a\n",
        "a = b\n",
        "b = temp\n",
        "print(a, b)"
      ],
      "metadata": {
        "colab": {
          "base_uri": "https://localhost:8080/"
        },
        "id": "E4PrqdXE7EMy",
        "outputId": "efed6766-bd26-4e80-835e-e5b094b872b0"
      },
      "execution_count": 34,
      "outputs": [
        {
          "output_type": "stream",
          "name": "stdout",
          "text": [
            "8 1\n"
          ]
        }
      ]
    },
    {
      "cell_type": "code",
      "source": [
        "a= 1\n",
        "b = 8\n",
        "a, b = b,a\n",
        "print(a, b)"
      ],
      "metadata": {
        "colab": {
          "base_uri": "https://localhost:8080/"
        },
        "id": "FPrDY_gh7N95",
        "outputId": "32c4dd50-5c64-4247-dab3-1784bc19c94a"
      },
      "execution_count": 35,
      "outputs": [
        {
          "output_type": "stream",
          "name": "stdout",
          "text": [
            "8 1\n"
          ]
        }
      ]
    },
    {
      "cell_type": "markdown",
      "source": [
        "Dictionary & Its Functions Explained\n",
        "Before going through the actual content, i.e., the implementation of a dictionary, it is essential to know some fundamental theories so that we can understand what we are going to learn and why we are spending our precious time learning it.\n",
        "\n",
        "Let's start with the basic definition of a Python Dictionary:\n",
        "“Python dictionary is an unordered collection of items. Each item of the dictionary has a key and value pair/ key-value pair.”\n",
        "\n",
        "Now coming to the more formal approach:\n",
        "Every programming language has its distinct features, commonly known as its key features. With that said, Python’s one out-of-the-box feature is “dictionaries”. Dictionaries may look very similar to a “List”. Still, dictionaries have some distinct features that do not hold true for other data types like lists, and those features make it (python dictionary) special.\n",
        "\n",
        "Here are a few important features of a python dictionary:\n",
        "\n",
        "It is unordered (no sequence is required - data or entries have no order)\n",
        "It is mutable (values can be changed even after its formation, or new data/information can be added to the already existing dictionary, we can also pop/remove an entry completely)\n",
        "It is indexed (Dictionary contains key-value pairs, and indexing is done with keys. Also, after the Python 3.7th update, the compiler stores the entries in the order they are created)\n",
        "No duplication of data (each key is unique; no two keys can have the same name, so there is no chance for a data being overridden)\n",
        "If we talk a little about how it works, its syntax comprises of key and values separated by colons in curly brackets, where the key is used as a keyword, as we see in real life dictionaries, and the values are like the explanation of the key or what the key holds (the value). And for the successful retrieval of the data, we must know the key so that we can access its value, just like in a regular oxford dictionary where if we don't know the word or its spelling, we cannot obtain its definition. Let's look into the syntax of a Python dictionary:\n",
        "\n"
      ],
      "metadata": {
        "id": "YxyVocFT6Q2B"
      }
    },
    {
      "cell_type": "code",
      "source": [
        "a = {'key': 'value', 'cow':'mooh'}\n",
        "print(a['cow'])\n",
        "#will print \"mooh\" on the screen\n"
      ],
      "metadata": {
        "colab": {
          "base_uri": "https://localhost:8080/"
        },
        "id": "0FG790Js6aAr",
        "outputId": "57a50d15-0655-4229-faf1-f82ba03f3aee"
      },
      "execution_count": 38,
      "outputs": [
        {
          "output_type": "stream",
          "name": "stdout",
          "text": [
            "mooh\n"
          ]
        }
      ]
    },
    {
      "cell_type": "code",
      "execution_count": 39,
      "metadata": {
        "colab": {
          "base_uri": "https://localhost:8080/"
        },
        "id": "BYYua52-6DUy",
        "outputId": "00e5aa69-210d-4211-a52f-e02915f6a1d8"
      },
      "outputs": [
        {
          "output_type": "stream",
          "name": "stdout",
          "text": [
            "{}\n",
            "{'Husban': 'Burger', 'Rohan': 'Fish', 'SkillF': 'Roti', 'Shubham': {'B': 'maggie', 'L': 'roti', 'D': 'Chicken'}}\n"
          ]
        }
      ],
      "source": [
        "# Dictionary is nothing but key value pairs\n",
        "d1 = {}\n",
        "# print(type(d1))\n",
        "d2 = {\"Husban\":\"Burger\",\n",
        "      \"Rohan\":\"Fish\",\n",
        "      \"SkillF\":\"Roti\",\n",
        "      \"Shubham\":{\"B\":\"maggie\", \"L\":\"roti\", \"D\":\"Chicken\"}}\n",
        "print(d1)\n",
        "print(d2)      \n",
        "\n",
        "\n"
      ]
    },
    {
      "cell_type": "code",
      "source": [
        "d2[\"Ankit\"] = \"Junk Food\"\n",
        "d2[420] = \"Kebabs\"\n",
        "print(d2)\n",
        "del d2[420]\n",
        "print(d2)\n"
      ],
      "metadata": {
        "colab": {
          "base_uri": "https://localhost:8080/"
        },
        "id": "YxxYOzCL-R-n",
        "outputId": "4e2748ec-f510-4228-854a-433802be91a7"
      },
      "execution_count": 41,
      "outputs": [
        {
          "output_type": "stream",
          "name": "stdout",
          "text": [
            "{'Husban': 'Burger', 'Rohan': 'Fish', 'SkillF': 'Roti', 'Shubham': {'B': 'maggie', 'L': 'roti', 'D': 'Chicken'}, 'Ankit': 'Junk Food', 420: 'Kebabs'}\n",
            "{'Husban': 'Burger', 'Rohan': 'Fish', 'SkillF': 'Roti', 'Shubham': {'B': 'maggie', 'L': 'roti', 'D': 'Chicken'}, 'Ankit': 'Junk Food'}\n"
          ]
        }
      ]
    },
    {
      "cell_type": "code",
      "source": [
        "print(d2[\"Shubham\"])\n",
        "print(d2[\"Shubham\"][\"D\"])\n"
      ],
      "metadata": {
        "colab": {
          "base_uri": "https://localhost:8080/"
        },
        "id": "YTbhmM-S-exe",
        "outputId": "c0fdf7eb-ff10-484f-fb64-34c8834caf60"
      },
      "execution_count": 43,
      "outputs": [
        {
          "output_type": "stream",
          "name": "stdout",
          "text": [
            "{'B': 'maggie', 'L': 'roti', 'D': 'Chicken'}\n",
            "Chicken\n"
          ]
        }
      ]
    },
    {
      "cell_type": "code",
      "source": [
        "# d3 = d2\n",
        "# del d3[\"Husban\"]\n",
        "# print(d3)\n",
        "# print(d2)\n",
        "\n",
        "d2 = {\"Husban\":\"Burger\",\n",
        "      \"Rohan\":\"Fish\",\n",
        "      \"SkillF\":\"Roti\",\n",
        "      \"Shubham\":{\"B\":\"maggie\", \"L\":\"roti\", \"D\":\"Chicken\"}}\n",
        "d3 = d2.copy()\n",
        "del d3[\"Husban\"]\n",
        "print(d2)\n",
        "print(d3)"
      ],
      "metadata": {
        "colab": {
          "base_uri": "https://localhost:8080/"
        },
        "id": "fTtMKWfa-qnk",
        "outputId": "397d3ea6-6f6a-4c6b-e3dc-48bd058d4bcd"
      },
      "execution_count": 45,
      "outputs": [
        {
          "output_type": "stream",
          "name": "stdout",
          "text": [
            "{'Husban': 'Burger', 'Rohan': 'Fish', 'SkillF': 'Roti', 'Shubham': {'B': 'maggie', 'L': 'roti', 'D': 'Chicken'}}\n",
            "{'Rohan': 'Fish', 'SkillF': 'Roti', 'Shubham': {'B': 'maggie', 'L': 'roti', 'D': 'Chicken'}}\n"
          ]
        }
      ]
    },
    {
      "cell_type": "code",
      "source": [
        "d2.update({\"Leena\":\"Toffee\"})\n",
        "print(d2)\n",
        "print(d2.keys())\n",
        "print(d2.items())\n"
      ],
      "metadata": {
        "colab": {
          "base_uri": "https://localhost:8080/"
        },
        "id": "Ff7gZn2A_G4_",
        "outputId": "4fed1936-3f9b-4d74-e670-7f981ebb0036"
      },
      "execution_count": 46,
      "outputs": [
        {
          "output_type": "stream",
          "name": "stdout",
          "text": [
            "{'Husban': 'Burger', 'Rohan': 'Fish', 'SkillF': 'Roti', 'Shubham': {'B': 'maggie', 'L': 'roti', 'D': 'Chicken'}, 'Leena': 'Toffee'}\n",
            "dict_keys(['Husban', 'Rohan', 'SkillF', 'Shubham', 'Leena'])\n",
            "dict_items([('Husban', 'Burger'), ('Rohan', 'Fish'), ('SkillF', 'Roti'), ('Shubham', {'B': 'maggie', 'L': 'roti', 'D': 'Chicken'}), ('Leena', 'Toffee')])\n"
          ]
        }
      ]
    },
    {
      "cell_type": "markdown",
      "source": [
        "The user will give the word as input. Suppose that the word is present in your dictionary along with its definition or meaning.\n",
        "The program will print the meaning or definition of that word.\n",
        "For example:\n",
        "The user inputs the word: “programming”\n",
        "\n",
        "The output will be:\n",
        "\n",
        " \"the process of writing computer programs\""
      ],
      "metadata": {
        "id": "aNer1jzS91Wc"
      }
    },
    {
      "cell_type": "code",
      "source": [],
      "metadata": {
        "id": "w0myuT4c91-u"
      },
      "execution_count": null,
      "outputs": []
    }
  ]
}