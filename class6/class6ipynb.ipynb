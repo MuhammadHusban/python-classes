{
  "nbformat": 4,
  "nbformat_minor": 0,
  "metadata": {
    "colab": {
      "provenance": []
    },
    "kernelspec": {
      "name": "python3",
      "display_name": "Python 3"
    },
    "language_info": {
      "name": "python"
    }
  },
  "cells": [
    {
      "cell_type": "markdown",
      "source": [
        "Starting with the technical definition of for loops:\n",
        "\n",
        "Like all the other functions we have seen so far in the video tutorials, for loop is also just a programming function that iterates a statement or a number of statements based on specific boundaries under certain defined conditions, which are the loop's basis.\n",
        "\n",
        "Note that the statement that the loop iterates must be present inside the body of the loop.\n",
        "\n",
        "Regarding loops, iteration means going through some chunk of code again and again. In programming, it has the same meaning, the only difference is that the iteration depends upon certain conditions, and upon its fulfillment, the iteration stops, and the compiler moves forward.\n",
        "\n",
        "For a beginner or layman, the concept of the loop could be easily understood using an example of the song's playlist. When we like a song, we set it on repeat, and then it automatically starts playing again and again. The same concept is used in programming, we set a part of code for looping, and the same part of the code executes until the certain condition that we provided is fulfilled. You must be thinking that in the song playlist, the song keeps on playing until we stop it. The same scenario can be made in the case of loops, and if we put a certain condition that the loop could not fulfill, then it will continue to iterate endlessly until stopped by force.\n",
        "\n",
        "An example of where a loop could be helpful to us could be in areas where a lot of data has to be printed on the screen, and physically writing that many printing statements could be difficult or, in some cases, impossible. Loops are also helpful in searching data from lists, dictionaries, and tuples.\n",
        "\n",
        "Why do we use loops?\n",
        "\n",
        "Complex problems can be simplified using loops\n",
        "Less amount of code required for our program\n",
        "Lesser code so lesser chance or error\n",
        "Saves a lot of time\n",
        "Can write code that is practically impossible to be written\n",
        "Programs that require too many iterations such as searching and sorting algorithms can be simplified using loops\n",
        "How to write a for loop?\n",
        "For loop basically depends upon the elements it has to iterate instead of the statement being true or false. The latter one is for the While loop, which is the topic for the next tutorial, i.e., tutorial# 17. In different programming languages, the way to write a loop is different; in java and C, it could be a little technical and difficult to grasp for a beginner, but it's simple and easy in Python. We just have to declare a variable so we can print the output through it during different iterations and use the keywords “for” and “in”. More explanation could be easily obtained about working and syntax through the video tutorial.\n",
        "\n",
        " Advantages of loops:\n",
        "\n",
        "The reusability of code is ensured\n",
        "We do not have to repeat the code, again and again; we just have to write it one time\n",
        "We can transverse through data structures like list, dictionary, and tuple\n",
        "We apply most of the finding algorithms through loops"
      ],
      "metadata": {
        "id": "nNkt_nWY9dXo"
      }
    },
    {
      "cell_type": "code",
      "execution_count": 1,
      "metadata": {
        "colab": {
          "base_uri": "https://localhost:8080/"
        },
        "id": "22npa6_q9VIj",
        "outputId": "a1c6bddd-51f6-44db-d504-14d1a74da4ee"
      },
      "outputs": [
        {
          "output_type": "stream",
          "name": "stdout",
          "text": [
            "Best Python Course CodeWithHarry\n",
            "Best C Languge Course CodeWithHarry\n",
            "Harry Sir Tom Cruise Of Programming\n"
          ]
        }
      ],
      "source": [
        "dict1= {\"Best Python Course\": \"CodeWithHarry\",\n",
        "        \"Best C Languge Course\": \"CodeWithHarry\",\n",
        "        \"Harry Sir\":\"Tom Cruise Of Programming\"\n",
        "        }\n",
        "\n",
        "for x,y in dict1.items():\n",
        "    print(x, y)\n"
      ]
    },
    {
      "cell_type": "code",
      "source": [
        "list1 = [ [\"Harry\", 1], [\"Larry\", 2],\n",
        "          [\"Carry\", 6], [\"Marie\", 250]]\n",
        "print(list1[0],list1[1])          "
      ],
      "metadata": {
        "id": "bOn31kIQ9aqc",
        "colab": {
          "base_uri": "https://localhost:8080/"
        },
        "outputId": "f3205d52-8573-4a11-d955-d4f2a0823a82"
      },
      "execution_count": 26,
      "outputs": [
        {
          "output_type": "stream",
          "name": "stdout",
          "text": [
            "['Harry', 1] ['Larry', 2]\n"
          ]
        }
      ]
    },
    {
      "cell_type": "code",
      "source": [
        "for x in list1:\n",
        "    print(x)"
      ],
      "metadata": {
        "colab": {
          "base_uri": "https://localhost:8080/"
        },
        "id": "OzOx_2MLDejY",
        "outputId": "c75cd4e5-44df-4a93-af15-d8ae3ca268b0"
      },
      "execution_count": 27,
      "outputs": [
        {
          "output_type": "stream",
          "name": "stdout",
          "text": [
            "['Harry', 1]\n",
            "['Larry', 2]\n",
            "['Carry', 6]\n",
            "['Marie', 250]\n"
          ]
        }
      ]
    },
    {
      "cell_type": "code",
      "source": [
        "dict1 = dict(list1)\n",
        "\n",
        "for item in dict1:\n",
        "    print(item)"
      ],
      "metadata": {
        "colab": {
          "base_uri": "https://localhost:8080/"
        },
        "id": "oZoqypwBDHSW",
        "outputId": "f6428a22-b2d2-4512-92d6-dad402c3b047"
      },
      "execution_count": 28,
      "outputs": [
        {
          "output_type": "stream",
          "name": "stdout",
          "text": [
            "Harry\n",
            "Larry\n",
            "Carry\n",
            "Marie\n"
          ]
        }
      ]
    },
    {
      "cell_type": "code",
      "source": [
        "for x,y in dict1.items():\n",
        "    print(x,y)"
      ],
      "metadata": {
        "colab": {
          "base_uri": "https://localhost:8080/"
        },
        "id": "mz9YE2fDEamz",
        "outputId": "4e12ccac-81fd-4ee9-af43-63fc008de81b"
      },
      "execution_count": 29,
      "outputs": [
        {
          "output_type": "stream",
          "name": "stdout",
          "text": [
            "Harry 1\n",
            "Larry 2\n",
            "Carry 6\n",
            "Marie 250\n"
          ]
        }
      ]
    },
    {
      "cell_type": "code",
      "source": [
        "for item, lollypop in dict1.items():\n",
        "    print(item, \"and lolly is \", lollypop)"
      ],
      "metadata": {
        "colab": {
          "base_uri": "https://localhost:8080/"
        },
        "id": "4-tv2kgDDNtH",
        "outputId": "2f66324e-3b4e-4193-b7e0-f17889c3af15"
      },
      "execution_count": 7,
      "outputs": [
        {
          "output_type": "stream",
          "name": "stdout",
          "text": [
            "Harry and lolly is  1\n",
            "Larry and lolly is  2\n",
            "Carry and lolly is  6\n",
            "Marie and lolly is  250\n"
          ]
        }
      ]
    },
    {
      "cell_type": "code",
      "source": [
        "i = 0\n",
        "while(i<45):\n",
        "  print(i)\n",
        "  i = i+1"
      ],
      "metadata": {
        "colab": {
          "base_uri": "https://localhost:8080/"
        },
        "id": "zPveuB-WE9Cd",
        "outputId": "7d1a6c90-ed97-4361-efc8-2eca13c4723c"
      },
      "execution_count": 31,
      "outputs": [
        {
          "output_type": "stream",
          "name": "stdout",
          "text": [
            "0\n",
            "1\n",
            "2\n",
            "3\n",
            "4\n",
            "5\n",
            "6\n",
            "7\n",
            "8\n",
            "9\n",
            "10\n",
            "11\n",
            "12\n",
            "13\n",
            "14\n",
            "15\n",
            "16\n",
            "17\n",
            "18\n",
            "19\n",
            "20\n",
            "21\n",
            "22\n",
            "23\n",
            "24\n",
            "25\n",
            "26\n",
            "27\n",
            "28\n",
            "29\n",
            "30\n",
            "31\n",
            "32\n",
            "33\n",
            "34\n",
            "35\n",
            "36\n",
            "37\n",
            "38\n",
            "39\n",
            "40\n",
            "41\n",
            "42\n",
            "43\n",
            "44\n"
          ]
        }
      ]
    },
    {
      "cell_type": "code",
      "source": [
        "my_list = [1, 2, 3, 4, 5, 6, 7, 8, 9, 10]\n",
        "start_index = 5  # Select the starting index here\n",
        "\n",
        "for item in my_list[start_index:]:\n",
        "    print(item)\n"
      ],
      "metadata": {
        "colab": {
          "base_uri": "https://localhost:8080/"
        },
        "id": "QP3SDcYrGzbu",
        "outputId": "f741089a-d5a6-4fe8-c7b6-3dd293cc7b05"
      },
      "execution_count": 32,
      "outputs": [
        {
          "output_type": "stream",
          "name": "stdout",
          "text": [
            "6\n",
            "7\n",
            "8\n",
            "9\n",
            "10\n"
          ]
        }
      ]
    },
    {
      "cell_type": "code",
      "source": [],
      "metadata": {
        "id": "-5Fep0vvGzRG"
      },
      "execution_count": null,
      "outputs": []
    },
    {
      "cell_type": "code",
      "source": [],
      "metadata": {
        "id": "oX26jA8MGzLz"
      },
      "execution_count": null,
      "outputs": []
    },
    {
      "cell_type": "code",
      "source": [],
      "metadata": {
        "id": "kDYq-FrmGzI_"
      },
      "execution_count": null,
      "outputs": []
    },
    {
      "cell_type": "code",
      "source": [],
      "metadata": {
        "id": "esR7LajdGzFr"
      },
      "execution_count": null,
      "outputs": []
    },
    {
      "cell_type": "code",
      "source": [],
      "metadata": {
        "id": "HvmamCrHGzCu"
      },
      "execution_count": null,
      "outputs": []
    },
    {
      "cell_type": "code",
      "source": [],
      "metadata": {
        "id": "dy4pnvTwGy_m"
      },
      "execution_count": null,
      "outputs": []
    },
    {
      "cell_type": "code",
      "source": [],
      "metadata": {
        "id": "tcbm8FPIGy8E"
      },
      "execution_count": null,
      "outputs": []
    },
    {
      "cell_type": "code",
      "source": [],
      "metadata": {
        "id": "QoKFpZQVGyAb"
      },
      "execution_count": 23,
      "outputs": []
    }
  ]
}