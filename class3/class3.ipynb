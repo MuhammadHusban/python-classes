{
  "nbformat": 4,
  "nbformat_minor": 0,
  "metadata": {
    "colab": {
      "provenance": []
    },
    "kernelspec": {
      "name": "python3",
      "display_name": "Python 3"
    },
    "language_info": {
      "name": "python"
    }
  },
  "cells": [
    {
      "cell_type": "code",
      "execution_count": 46,
      "metadata": {
        "colab": {
          "base_uri": "https://localhost:8080/"
        },
        "id": "-ZAQ6E4CAEJ7",
        "outputId": "6f278f9d-56a2-413e-a771-43e41be2da69"
      },
      "outputs": [
        {
          "output_type": "stream",
          "name": "stdout",
          "text": [
            "\n"
          ]
        }
      ],
      "source": [
        "mystr = \"husban is a good boy\"\n",
        "# print(len(mystr))\n",
        "# print(mystr[6])\n",
        "# print(mystr[7:])\n",
        "print(mystr[21:77])\n",
        "# print(mystr[:17:3])"
      ]
    },
    {
      "cell_type": "code",
      "source": [
        "print(mystr[::-2])"
      ],
      "metadata": {
        "colab": {
          "base_uri": "https://localhost:8080/"
        },
        "id": "qQaTluzSAdWW",
        "outputId": "1128b072-7ef5-43f3-a9c4-8574e94a4c92"
      },
      "execution_count": 47,
      "outputs": [
        {
          "output_type": "stream",
          "name": "stdout",
          "text": [
            "ybdo  inbu\n"
          ]
        }
      ]
    },
    {
      "cell_type": "code",
      "source": [
        "# print(mystr.endswith(\"boy\"))\n",
        "# print(mystr.count(\"s\"))\n",
        "# print(mystr.capitalize())\n",
        "# print(mystr.replace(\"is\", \"are\"))\n",
        "# print(mystr.replace(\"is\", \"are\"))\n",
        "print(mystr)"
      ],
      "metadata": {
        "colab": {
          "base_uri": "https://localhost:8080/"
        },
        "id": "XS8dlOhTCJLJ",
        "outputId": "c6341d2d-6ca4-4f2c-f790-6658b94f3b42"
      },
      "execution_count": 53,
      "outputs": [
        {
          "output_type": "stream",
          "name": "stdout",
          "text": [
            "husban  a good boy\n",
            "husban is a good boy\n"
          ]
        }
      ]
    },
    {
      "cell_type": "code",
      "source": [
        "print(mystr.upper())\n",
        "print(mystr.lower())\n",
        "print(mystr.find(\"is\"))\n",
        "print(mystr.find(\"good\"))\n"
      ],
      "metadata": {
        "colab": {
          "base_uri": "https://localhost:8080/"
        },
        "id": "jKrtJOTLCWDF",
        "outputId": "cfdcceb5-e8fb-4a99-de25-7835b1d6623b"
      },
      "execution_count": 57,
      "outputs": [
        {
          "output_type": "stream",
          "name": "stdout",
          "text": [
            "HUSBAN IS A GOOD BOY\n",
            "husban is a good boy\n",
            "7\n",
            "12\n"
          ]
        }
      ]
    },
    {
      "cell_type": "markdown",
      "source": [
        "Python Lists And List Functions\n",
        "Python lists are containers used to store a list of values of any data type. In simple words, we can say that a list is a collection of elements from any data type. E.g."
      ],
      "metadata": {
        "id": "bD6DOLmmFbBw"
      }
    },
    {
      "cell_type": "code",
      "source": [
        "                        # Lists in Python\n",
        "\n",
        "[]                                             # list with no member, empty list\n",
        "[1, 2, 3]                                    # list of integers \n",
        "[1, 2.5, 3.7, 9]                           # list of numbers (integers and floating point)\n",
        "['a', 'b', 'c']                               # lisst of characters\n",
        "['a', 1, 'b', 3.5, 'zero']                # list of mixed value types\n",
        "['One', 'Two', 'Three']               # list of strings "
      ],
      "metadata": {
        "colab": {
          "base_uri": "https://localhost:8080/"
        },
        "id": "w0o6ReOrCxHr",
        "outputId": "9e23bea4-8409-46e1-c2a5-8bc658406515"
      },
      "execution_count": null,
      "outputs": [
        {
          "output_type": "execute_result",
          "data": {
            "text/plain": [
              "['One', 'Two', 'Three']"
            ]
          },
          "metadata": {},
          "execution_count": 19
        }
      ]
    },
    {
      "cell_type": "markdown",
      "source": [
        "List Methods :\n",
        "Here is the list of list methods in Python. These methods can be used in any python list to produce the desired output."
      ],
      "metadata": {
        "id": "Yn852jIoFR98"
      }
    },
    {
      "cell_type": "code",
      "source": [
        "# List Methods :\n",
        "l1=[1,8,4,3,15,20,25,89,65]       #l1 is a list\n",
        "print(l1)\n",
        "\n",
        "l1.sort()\n",
        "print(l1)      #l1 after sorting\n",
        "l1.reverse()\n",
        "print(l1)      #l1 after reversing all elements\n"
      ],
      "metadata": {
        "colab": {
          "base_uri": "https://localhost:8080/"
        },
        "id": "5zFDTVzXEY5q",
        "outputId": "77efe2b6-72bf-400e-ebb3-6f3e590730dd"
      },
      "execution_count": 62,
      "outputs": [
        {
          "output_type": "stream",
          "name": "stdout",
          "text": [
            "[1, 8, 4, 3, 15, 20, 25, 89, 65]\n",
            "[1, 3, 4, 8, 15, 20, 25, 65, 89]\n",
            "[89, 65, 25, 20, 15, 8, 4, 3, 1]\n"
          ]
        }
      ]
    },
    {
      "cell_type": "code",
      "source": [
        "# List Methods :- \n",
        "list1= [1,2,3,6,5,4]     #list1 is a list\n",
        "\n",
        "# list1.append(7)    # This will add 7 in the last of list \n",
        "# list1.insert(3,8)    # This will add 8 at 3 index in list\n",
        "list1.remove()    #This will remove 1 from the list \n",
        "list1.pop(2)        #This will delete and return index 2 value."
      ],
      "metadata": {
        "id": "wE37jIPjE0jw",
        "colab": {
          "base_uri": "https://localhost:8080/"
        },
        "outputId": "8e3f6335-aaeb-4bdd-b1a6-d98971ae3d6f"
      },
      "execution_count": 70,
      "outputs": [
        {
          "output_type": "execute_result",
          "data": {
            "text/plain": [
              "3"
            ]
          },
          "metadata": {},
          "execution_count": 70
        }
      ]
    },
    {
      "cell_type": "code",
      "source": [
        "print(list1)"
      ],
      "metadata": {
        "id": "GT8NVLa2FEFb",
        "colab": {
          "base_uri": "https://localhost:8080/"
        },
        "outputId": "af7f2324-9471-4813-a3d0-f76504afcc0c"
      },
      "execution_count": 71,
      "outputs": [
        {
          "output_type": "stream",
          "name": "stdout",
          "text": [
            "[1, 2, 6, 5, 4]\n"
          ]
        }
      ]
    },
    {
      "cell_type": "code",
      "source": [
        "numbers = [2, 7, 9, 11, 3]\n"
      ],
      "metadata": {
        "id": "z0dfLTn0JaTK"
      },
      "execution_count": 14,
      "outputs": []
    },
    {
      "cell_type": "code",
      "source": [
        "numbers.sort()\n",
        "numbers.reverse()\n"
      ],
      "metadata": {
        "id": "HlP0JzcWKDAS"
      },
      "execution_count": 19,
      "outputs": []
    },
    {
      "cell_type": "code",
      "source": [
        "print(numbers)"
      ],
      "metadata": {
        "colab": {
          "base_uri": "https://localhost:8080/"
        },
        "id": "TA8YSFkDKGMJ",
        "outputId": "cb9def48-95aa-4462-8d93-1e844eb2b862"
      },
      "execution_count": 20,
      "outputs": [
        {
          "output_type": "stream",
          "name": "stdout",
          "text": [
            "[11, 9, 7, 3, 2]\n"
          ]
        }
      ]
    },
    {
      "cell_type": "code",
      "source": [],
      "metadata": {
        "id": "oXCqB-vwKJ77"
      },
      "execution_count": null,
      "outputs": []
    }
  ]
}