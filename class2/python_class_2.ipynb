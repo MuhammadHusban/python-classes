{
  "nbformat": 4,
  "nbformat_minor": 0,
  "metadata": {
    "colab": {
      "provenance": []
    },
    "kernelspec": {
      "name": "python3",
      "display_name": "Python 3"
    },
    "language_info": {
      "name": "python"
    }
  },
  "cells": [
    {
      "cell_type": "code",
      "execution_count": 3,
      "metadata": {
        "colab": {
          "base_uri": "https://localhost:8080/"
        },
        "id": "Q54iLZ2dH4IS",
        "outputId": "96ec8d49-2210-4f26-9492-64056940d0f5"
      },
      "outputs": [
        {
          "output_type": "stream",
          "name": "stdout",
          "text": [
            "<class 'int'>\n"
          ]
        }
      ],
      "source": [
        "husban = \"40\"\n",
        "demo =55.5\n",
        "demo = 40\n",
        "demo3 =type(demo)\n",
        "print(demo3)\n",
        "# print(type(demo))"
      ]
    },
    {
      "cell_type": "code",
      "source": [
        "var1 = \"its a string\"\n",
        "var2 = \" helo\"\n",
        "print(var1+var2)"
      ],
      "metadata": {
        "colab": {
          "base_uri": "https://localhost:8080/"
        },
        "id": "4_vOTpTqJURe",
        "outputId": "34f41d38-9bc0-4396-b2ab-34bf9df2e3f0"
      },
      "execution_count": 7,
      "outputs": [
        {
          "output_type": "stream",
          "name": "stdout",
          "text": [
            "its a string helo\n"
          ]
        }
      ]
    },
    {
      "cell_type": "code",
      "source": [
        "abc = \"5\"\n",
        "abc2 = \"45\"\n",
        "abc3 = 55.59\n",
        "xyz = 5.0\n",
        "\n",
        "abc4 =int(abc2)\n",
        "\n",
        "print(abc+abc4)"
      ],
      "metadata": {
        "colab": {
          "base_uri": "https://localhost:8080/"
        },
        "id": "GxpJYCLVKlRn",
        "outputId": "2b7f9c38-4950-4827-9860-c9c61849259b"
      },
      "execution_count": 9,
      "outputs": [
        {
          "output_type": "stream",
          "name": "stdout",
          "text": [
            "50\n"
          ]
        }
      ]
    },
    {
      "cell_type": "code",
      "source": [
        "print(abc+int(abc2))"
      ],
      "metadata": {
        "colab": {
          "base_uri": "https://localhost:8080/"
        },
        "id": "k3l9lZhiLqII",
        "outputId": "622b35ff-e325-4576-9446-238796274e6c"
      },
      "execution_count": 10,
      "outputs": [
        {
          "output_type": "stream",
          "name": "stdout",
          "text": [
            "50\n"
          ]
        }
      ]
    },
    {
      "cell_type": "code",
      "source": [
        "print(float(abc)+xyz)"
      ],
      "metadata": {
        "colab": {
          "base_uri": "https://localhost:8080/"
        },
        "id": "d2EK0YiKMBUB",
        "outputId": "14be8656-7965-4c89-a1ca-7d025f8b5433"
      },
      "execution_count": 12,
      "outputs": [
        {
          "output_type": "stream",
          "name": "stdout",
          "text": [
            "10.0\n"
          ]
        }
      ]
    },
    {
      "cell_type": "code",
      "source": [
        "print(str(abc)+abc2)"
      ],
      "metadata": {
        "colab": {
          "base_uri": "https://localhost:8080/"
        },
        "id": "6P3p9Y_UMSS9",
        "outputId": "6dbc59da-f737-4d2d-fcf3-9ec12c714064"
      },
      "execution_count": 14,
      "outputs": [
        {
          "output_type": "stream",
          "name": "stdout",
          "text": [
            "545\n"
          ]
        }
      ]
    },
    {
      "cell_type": "code",
      "source": [
        "print(\"Enter your name\")\n",
        "name = input()\n",
        "print(\"Your name is\",name)\n",
        "xyz = input(\"Enter your age : \")\n",
        "print(xyz)"
      ],
      "metadata": {
        "colab": {
          "base_uri": "https://localhost:8080/"
        },
        "id": "rptmswOBMhwa",
        "outputId": "2f566c32-0bf8-4e60-b57a-570319378196"
      },
      "execution_count": 17,
      "outputs": [
        {
          "output_type": "stream",
          "name": "stdout",
          "text": [
            "Enter your name\n",
            "husban\n",
            "Your name is husban\n",
            "Enter your age : 18\n",
            "18\n"
          ]
        }
      ]
    },
    {
      "cell_type": "code",
      "source": [
        "#  Quiz : \n",
        "print(\"Enter First Number : \")\n",
        "num1= float(input())\n",
        "print(\"Enter Second Number : \")\n",
        "num2=int(input())\n",
        "print(num1+num2)"
      ],
      "metadata": {
        "colab": {
          "base_uri": "https://localhost:8080/"
        },
        "id": "WajZkqygOcJA",
        "outputId": "745b497d-3b37-40d3-c51e-2d99e21e3308"
      },
      "execution_count": 26,
      "outputs": [
        {
          "output_type": "stream",
          "name": "stdout",
          "text": [
            "Enter First Number : \n",
            "4\n",
            "Enter Second Number : \n",
            "5\n",
            "9.0\n"
          ]
        }
      ]
    },
    {
      "cell_type": "code",
      "source": [],
      "metadata": {
        "id": "-GtDLl9zPM9u"
      },
      "execution_count": null,
      "outputs": []
    }
  ]
}