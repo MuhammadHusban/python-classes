{
  "nbformat": 4,
  "nbformat_minor": 0,
  "metadata": {
    "colab": {
      "provenance": []
    },
    "kernelspec": {
      "name": "python3",
      "display_name": "Python 3"
    },
    "language_info": {
      "name": "python"
    }
  },
  "cells": [
    {
      "cell_type": "markdown",
      "source": [
        "“If, else and elif statement can be defined as a multiway decision taken by our program due to the certain conditions in our code.”\n",
        "\n",
        "For few viewers, the term “elif” is new as they are not familiar with the word, and it is also not like most of the other words such as list or loops, etc., that have the same meaning in the English language and in Python programming. In fact, in English, “elif” means honest. But if you have ever done programming in any language, you must be familiar with the “else-if” statement; well, “elif” is just that.\n",
        "\n",
        "We are now coming towards a more formal sort of description. “If and else” are known as decision-making statements for our program. They are very similar to the decision-making we apply in our everyday life that depends on certain conditions. The everyday example is thoroughly explained in the tutorial, so I will not waste your time on that. Instead, I would now like to focus on more technical details.\n",
        "\n",
        "Let us focus a little on the working:\n",
        "\n",
        "Our compiler will execute the if statement to check whether it is true or false now; if it’s true, the compiler will execute the code in the “if” section of the program and skip the bunch of code written in “elif” and “else.” But if the “if” condition is false, then the compiler will move towards the elif section and keep on running the code until it finds a true statement(there could be multiple elif statements). If this does not happen, then it will execute the code written in the “else” part of the program.\n",
        "\n",
        " An “if” statement is a must because without an if, we cannot apply “else” or “else-if” statements. On the other hand else or else if statement is not necessary because if we have to check between only two conditions, we use only “if and else” and even though if we require code to run only when the statement returns true and do nothing if it returns false then an else statement is not required at all.  \n",
        "\n",
        "Now Let’s talk about some technical issues related to the working of decision statements:\n",
        "\n",
        "There is no limit to the number of conditions that we could use in our program. We can apply as many elif statements as we want, but we can only use one “else” and one “if” statement.\n",
        "We can use nested if statements, i.e., if statement within an if statement. It is quite helpful in many cases.\n",
        "Decision statements can be written using logical conditions, which are:\n",
        "Equal to\n",
        "Not equal to\n",
        "Less than\n",
        "Greater than\n",
        "Greater than equal to\n",
        "Less than equal to\n",
        "We can also use Boolean or our custom-made conditions too.\n",
        "\n"
      ],
      "metadata": {
        "id": "rQo0ijLgMIxL"
      }
    },
    {
      "cell_type": "code",
      "execution_count": 4,
      "metadata": {
        "colab": {
          "base_uri": "https://localhost:8080/"
        },
        "id": "c-jQx-rXHN6N",
        "outputId": "9fe6d615-a774-4738-af23-052abdcb50ad"
      },
      "outputs": [
        {
          "output_type": "stream",
          "name": "stdout",
          "text": [
            "56\n",
            "Equal\n"
          ]
        }
      ],
      "source": [
        "var1 = 6\n",
        "var2 = 56\n",
        "var3 = int(input())\n",
        "if var3>var2:\n",
        "    print(\"Greater\")\n",
        "elif var3==var2:\n",
        "    print(\"Equal\")\n",
        "else:\n",
        "    print(\"Lesser\")\n"
      ]
    },
    {
      "cell_type": "code",
      "source": [
        "list1 = [5, 7, 3]\n",
        "# print(15 not in list1)\n",
        "if 15 not in list1:\n",
        "    print(\"No its not in the list\")\n",
        "# if 15 in list1:\n",
        "#     print(\"its in the list\")"
      ],
      "metadata": {
        "colab": {
          "base_uri": "https://localhost:8080/"
        },
        "id": "NoNTM-B0MZ1q",
        "outputId": "1edacbfa-9b73-45de-9cc0-af52437cb198"
      },
      "execution_count": 6,
      "outputs": [
        {
          "output_type": "stream",
          "name": "stdout",
          "text": [
            "No its not in the list\n"
          ]
        }
      ]
    },
    {
      "cell_type": "code",
      "source": [],
      "metadata": {
        "id": "5htTVq5EMZ6H"
      },
      "execution_count": null,
      "outputs": []
    },
    {
      "cell_type": "code",
      "source": [],
      "metadata": {
        "id": "fX2YrueFMZ_R"
      },
      "execution_count": null,
      "outputs": []
    },
    {
      "cell_type": "code",
      "source": [
        "# Quiz\n",
        "print(\"What is your age?\")\n",
        "age = int(input())\n",
        "if age<=18:\n",
        "    print(\"You cannot drive\")\n",
        "if age==18:\n",
        "    print(\"We will think about you\")\n",
        "else:\n",
        "    print(\"You can drive\")"
      ],
      "metadata": {
        "colab": {
          "base_uri": "https://localhost:8080/"
        },
        "id": "5QMsKuRmMaDH",
        "outputId": "0828f2d2-d952-4b25-dada-ff40b4ea8748"
      },
      "execution_count": 11,
      "outputs": [
        {
          "output_type": "stream",
          "name": "stdout",
          "text": [
            "What is your age?\n",
            "18\n",
            "You cannot drive\n",
            "We will think about you\n"
          ]
        }
      ]
    },
    {
      "cell_type": "markdown",
      "source": [
        "Suppose that you are an invigilator in an exam. A calculator is not allowed for the exam. You discover somehow that students are planning to cheat in exams, using a calculator program in Python language. Somehow, you get your hands on the calculator program. Now you want to alter a few results in the calculator with your own provided results to catch the students trying to cheat using the calculator program.\n",
        "\n",
        "The user will provide the following inputs:\n",
        "\n",
        "Operator\n",
        "The two numbers between which the operator is applied\n",
        "All the results will be correct, except for these few:\n",
        "\n",
        "45 * 3 = 555\n",
        "56+9 = 77\n",
        "56/6 = 4"
      ],
      "metadata": {
        "id": "UQMooIjGPLcO"
      }
    },
    {
      "cell_type": "code",
      "source": [
        "# Exercise 2 - Faulty Calculator\n",
        "# 45 * 3 = 555, 56+9 = 77, 56/6 = 4\n",
        "# Design a calculator which will correctly solve all the problems except\n",
        "# the following ones:\n",
        "# Your program should take operator  and the two numbers as input from the user\n",
        "# and then return the result\n"
      ],
      "metadata": {
        "id": "FEUNgrMsPQOY"
      },
      "execution_count": 3,
      "outputs": []
    },
    {
      "cell_type": "code",
      "source": [],
      "metadata": {
        "id": "glRwFd_wPUIp"
      },
      "execution_count": null,
      "outputs": []
    }
  ]
}