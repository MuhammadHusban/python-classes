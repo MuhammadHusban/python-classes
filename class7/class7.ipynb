{
  "nbformat": 4,
  "nbformat_minor": 0,
  "metadata": {
    "colab": {
      "provenance": []
    },
    "kernelspec": {
      "name": "python3",
      "display_name": "Python 3"
    },
    "language_info": {
      "name": "python"
    }
  },
  "cells": [
    {
      "cell_type": "code",
      "source": [
        "names = [\"Alice\", \"Bob\", \"Charlie\", \"Dave\", \"Eve\"]\n",
        "result = {}\n",
        "\n",
        "for name in names:\n",
        "    first_letter = name[0].upper()\n",
        "    if first_letter not in result:\n",
        "        result[first_letter] = []\n",
        "    result[first_letter].append(name)\n",
        "\n",
        "# for key in result:\n",
        "#     result[key] = sorted(result[key])\n",
        "\n",
        "print(result)"
      ],
      "metadata": {
        "colab": {
          "base_uri": "https://localhost:8080/"
        },
        "id": "hFtzPtghiNmf",
        "outputId": "0e5d90a8-28f9-4491-f1c9-acf1d1f13985"
      },
      "execution_count": 18,
      "outputs": [
        {
          "output_type": "stream",
          "name": "stdout",
          "text": [
            "{'A': ['Alice'], 'B': ['Bob'], 'C': ['Charlie'], 'D': ['Dave'], 'E': ['Eve']}\n"
          ]
        }
      ]
    },
    {
      "cell_type": "code",
      "source": [
        "numbers = [4,2,3, 5, 9, 10, 15]\n",
        "total = 0\n",
        "i = 0\n",
        "\n",
        "while i < len(numbers):\n",
        "    if numbers[i] % 3 == 0 or numbers[i] % 5 == 0:\n",
        "        total += numbers[i]\n",
        "    i += 1\n",
        "\n",
        "print(total)\n"
      ],
      "metadata": {
        "colab": {
          "base_uri": "https://localhost:8080/"
        },
        "id": "F_16AtrRjTFa",
        "outputId": "5a234b5a-5229-4279-8379-3105b930f789"
      },
      "execution_count": 19,
      "outputs": [
        {
          "output_type": "stream",
          "name": "stdout",
          "text": [
            "42\n"
          ]
        }
      ]
    },
    {
      "cell_type": "code",
      "execution_count": 22,
      "metadata": {
        "colab": {
          "base_uri": "https://localhost:8080/"
        },
        "id": "9mmx2NAbgIR-",
        "outputId": "8cc0a31d-1ec3-4459-fcc8-39b81643b48a"
      },
      "outputs": [
        {
          "output_type": "stream",
          "name": "stdout",
          "text": [
            "The value of i is : 0\n",
            "The value of i is : 1\n",
            "The value of i is : 2\n",
            "The value of i is : 3\n",
            "The value of i is : 4\n",
            "The value of i is : 5\n",
            "The value of i is : 6\n",
            "The value of i is : 7\n",
            "The value of i is : 8\n",
            "The value of i is : 9\n",
            "The value of i is : 10\n",
            "Breaking the loop. \n"
          ]
        }
      ],
      "source": [
        "i=0;\n",
        "while(True):\n",
        "    print(f\"The value of i is : {i}\")\n",
        "    i=i+1\n",
        "    if(i>10):\n",
        "        print(\"Breaking the loop. \")\n",
        "        break;"
      ]
    },
    {
      "cell_type": "code",
      "source": [
        "i=0;\n",
        "while(True):\n",
        "    i=i+1\n",
        "    if(i==5):\n",
        "        continue\n",
        "    if(i>10):\n",
        "        break\n",
        "    print(f\"The value of i is : {i}\")\n",
        "\n"
      ],
      "metadata": {
        "colab": {
          "base_uri": "https://localhost:8080/"
        },
        "id": "nXkDjI82iUJj",
        "outputId": "d2ca22df-f0a0-4f7e-8d99-27ee93d262e0"
      },
      "execution_count": 25,
      "outputs": [
        {
          "output_type": "stream",
          "name": "stdout",
          "text": [
            "The value of i is : 1\n",
            "The value of i is : 2\n",
            "The value of i is : 3\n",
            "The value of i is : 4\n",
            "The value of i is : 6\n",
            "The value of i is : 7\n",
            "The value of i is : 8\n",
            "The value of i is : 9\n",
            "The value of i is : 10\n"
          ]
        }
      ]
    },
    {
      "cell_type": "code",
      "source": [],
      "metadata": {
        "id": "aXjXdsHRjdHy"
      },
      "execution_count": null,
      "outputs": []
    }
  ]
}